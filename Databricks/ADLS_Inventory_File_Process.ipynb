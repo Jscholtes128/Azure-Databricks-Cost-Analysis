{
 "cells": [
  {
   "cell_type": "markdown",
   "metadata": {
    "application/vnd.databricks.v1+cell": {
     "cellMetadata": {},
     "inputWidgets": {},
     "nuid": "ceceefe6-e489-4800-8dd5-201869b31370",
     "showTitle": false,
     "title": ""
    }
   },
   "source": [
    ">Permission is hereby granted, free of charge, to any person obtaining a copy of\n",
    "this software and associated documentation files (the \"Software\"), to deal in\n",
    "the Software without restriction, including without limitation the rights to\n",
    "use, copy, modify, merge, publish, distribute, sublicense, and/or sell copies\n",
    "of the Software, and to permit persons to whom the Software is furnished to do\n",
    "so, subject to the following conditions:\n",
    ">\n",
    ">The above copyright notice and this permission notice shall be included in all\n",
    "copies or substantial portions of the Software.\n",
    ">\n",
    ">THE SOFTWARE IS PROVIDED \"AS IS\", WITHOUT WARRANTY OF ANY KIND, EXPRESS OR\n",
    "IMPLIED, INCLUDING BUT NOT LIMITED TO THE WARRANTIES OF MERCHANTABILITY,\n",
    "FITNESS FOR A PARTICULAR PURPOSE AND NONINFRINGEMENT. IN NO EVENT SHALL THE\n",
    "AUTHORS OR COPYRIGHT HOLDERS BE LIABLE FOR ANY CLAIM, DAMAGES OR OTHER\n",
    "LIABILITY, WHETHER IN AN ACTION OF CONTRACT, TORT OR OTHERWISE, ARISING FROM,\n",
    "OUT OF OR IN CONNECTION WITH THE SOFTWARE OR THE USE OR OTHER DEALINGS IN THE\n",
    "SOFTWARE."
   ]
  },
  {
   "cell_type": "markdown",
   "metadata": {
    "application/vnd.databricks.v1+cell": {
     "cellMetadata": {
      "byteLimit": 2048000,
      "rowLimit": 10000
     },
     "inputWidgets": {},
     "nuid": "9104484c-2f66-4988-8965-519c9fc5c6df",
     "showTitle": false,
     "title": ""
    }
   },
   "source": [
    "##### The code in this notebook leverages the [Azure Blob Inventory Report](https://learn.microsoft.com/en-us/azure/storage/blobs/blob-inventory) to create a hierarchical path structure for roll-up calculations used in analytics and reporting. \n",
    "\n",
    "____________________________________\n",
    "*Please clean-up the managed DBFS delta tables when analysis is complete, or modify the code to use external locations.*"
   ]
  },
  {
   "cell_type": "code",
   "execution_count": 0,
   "metadata": {
    "application/vnd.databricks.v1+cell": {
     "cellMetadata": {
      "byteLimit": 2048000,
      "rowLimit": 10000
     },
     "inputWidgets": {},
     "nuid": "9a3a9c4b-f4c9-46f8-8d29-a023c73c5b19",
     "showTitle": false,
     "title": ""
    }
   },
   "outputs": [],
   "source": [
    "import pyspark.sql.functions as F\n",
    "import pandas as pd\n",
    "from typing import Iterator\n",
    "from pyspark.sql.types import StringType, LongType"
   ]
  },
  {
   "cell_type": "code",
   "execution_count": 0,
   "metadata": {
    "application/vnd.databricks.v1+cell": {
     "cellMetadata": {
      "byteLimit": 2048000,
      "implicitDf": true,
      "rowLimit": 10000
     },
     "inputWidgets": {},
     "nuid": "f7ff291d-1f08-486c-b319-e876d56ebdee",
     "showTitle": false,
     "title": ""
    }
   },
   "outputs": [],
   "source": [
    "%sql DROP TABLE IF EXISTS adls_inventory_load"
   ]
  },
  {
   "cell_type": "code",
   "execution_count": 0,
   "metadata": {
    "application/vnd.databricks.v1+cell": {
     "cellMetadata": {
      "byteLimit": 2048000,
      "implicitDf": true,
      "rowLimit": 10000
     },
     "inputWidgets": {},
     "nuid": "c5094fae-4358-413c-a4dc-531504e98ea5",
     "showTitle": false,
     "title": ""
    }
   },
   "outputs": [],
   "source": [
    "%sql DROP TABLE IF EXISTS adls_inventory_temp"
   ]
  },
  {
   "cell_type": "code",
   "execution_count": 0,
   "metadata": {
    "application/vnd.databricks.v1+cell": {
     "cellMetadata": {
      "byteLimit": 2048000,
      "implicitDf": true,
      "rowLimit": 10000
     },
     "inputWidgets": {},
     "nuid": "f18524c8-9e07-4e16-82ce-eaa575d47ee6",
     "showTitle": false,
     "title": ""
    }
   },
   "outputs": [],
   "source": [
    "%sql DROP TABLE IF EXISTS adls_inventory_processed"
   ]
  },
  {
   "cell_type": "code",
   "execution_count": 0,
   "metadata": {
    "application/vnd.databricks.v1+cell": {
     "cellMetadata": {
      "byteLimit": 2048000,
      "rowLimit": 10000
     },
     "inputWidgets": {},
     "nuid": "c543b59c-a4e3-4785-a7aa-e5bb66d91b8f",
     "showTitle": true,
     "title": "Set Blob Inventory File(s) to Load"
    }
   },
   "outputs": [],
   "source": [
    "storage_account = '[Storage Account Name]'\n",
    "container = '[Storage Account Container]'\n",
    "folder_path = '[File.parquet]'\n",
    "\n",
    "path = \"abfss://{}@{}.dfs.core.windows.net/{}\".format(container,storage_account,folder_path)\n",
    "\n",
    "displayHTML('<h3>Load Path </br></br> ' + path + '</h3>')"
   ]
  },
  {
   "cell_type": "code",
   "execution_count": 0,
   "metadata": {
    "application/vnd.databricks.v1+cell": {
     "cellMetadata": {
      "byteLimit": 2048000,
      "rowLimit": 10000
     },
     "inputWidgets": {},
     "nuid": "31e39aaa-26ac-41ab-8eee-424701362914",
     "showTitle": true,
     "title": "Load Azure Blob Inventory File(s)"
    }
   },
   "outputs": [],
   "source": [
    "\n",
    "\n",
    "df = spark.read.format('parquet').load(path)\n",
    "\n",
    "df.write.format('delta').saveAsTable(\"adls_inventory_load\")"
   ]
  },
  {
   "cell_type": "code",
   "execution_count": 0,
   "metadata": {
    "application/vnd.databricks.v1+cell": {
     "cellMetadata": {
      "byteLimit": 2048000,
      "rowLimit": 10000
     },
     "inputWidgets": {},
     "nuid": "c9f2f345-ba3f-4d34-88ef-5602abd33f04",
     "showTitle": true,
     "title": "Set Small File Threshold"
    }
   },
   "outputs": [],
   "source": [
    "small_file_mb = 100\n",
    "small_file_bytes = small_file_mb * (1000**2)"
   ]
  },
  {
   "cell_type": "code",
   "execution_count": 0,
   "metadata": {
    "application/vnd.databricks.v1+cell": {
     "cellMetadata": {
      "byteLimit": 2048000,
      "rowLimit": 10000
     },
     "inputWidgets": {},
     "nuid": "6420493a-776e-4500-be8c-2faf9f9977f0",
     "showTitle": true,
     "title": "Create New Columns for Aggregations"
    }
   },
   "outputs": [],
   "source": [
    "df = spark.read.table('adls_inventory_load')\n",
    "\n",
    "tmp_df = df.select(F.col('Name'),F.col('Content-Length'))\n",
    "tmp_df = tmp_df.withColumn('IsDelta',F.when((F.col('Name').contains('_delta_log')==True),F.lit(1)).otherwise(F.lit(0)) )\n",
    "tmp_df = tmp_df.withColumn('IsDir',F.when((F.col('Content-Length') >0),F.lit(0)).otherwise(F.lit(1)))\n",
    "tmp_df = tmp_df.withColumn('IsDir',F.when((F.col('Name').contains('.parquet')==True) ,F.lit(0)).otherwise(F.col('IsDir')))\n",
    "tmp_df = tmp_df.withColumn('Folder_Array',F.split(F.col('Name'),'/'))\n",
    "tmp_df = tmp_df.withColumn('Parent_Array',F.array_except(F.col('Folder_Array'),F.array(F.col('Folder_Array')[F.size(F.col('Folder_Array'))-1])))\n",
    "tmp_df = tmp_df.withColumn('Level',F.size(F.col('Parent_Array')))\n",
    "tmp_df = tmp_df.withColumn('FileCount',F.when(F.col('IsDir')==0,F.lit(1)).otherwise(F.lit(0)))\n",
    "tmp_df = tmp_df.withColumn('Content-Length-Mean',F.col('Content-Length'))\n",
    "tmp_df = tmp_df.withColumn('Content-Length-Min',F.when(F.col('Content-Length')>0,F.col('Content-Length')).otherwise(F.lit(-1)) )\n",
    "tmp_df = tmp_df.withColumn('SmallFile',F.when(((F.col('IsDir')==0)&(F.col('Content-Length')<=small_file_bytes)),F.lit(1)).otherwise(F.lit(0)) )\n",
    "\n",
    "\n"
   ]
  },
  {
   "cell_type": "code",
   "execution_count": 0,
   "metadata": {
    "application/vnd.databricks.v1+cell": {
     "cellMetadata": {
      "byteLimit": 2048000,
      "rowLimit": 10000
     },
     "inputWidgets": {},
     "nuid": "b3cb6464-fa8d-428c-bc74-bb1c13cc9aab",
     "showTitle": true,
     "title": "Determine File Type of Base Folder "
    }
   },
   "outputs": [],
   "source": [
    "tmp_df2 = tmp_df.groupby('Parent_Array').agg(F.max(F.col('IsDelta')).alias('IsDelta'))\n",
    "tmp_df2 = tmp_df2.withColumnRenamed('Parent_Array','Parent_Array_agg')                                 \n",
    "  \n",
    "inner_tmp_df = tmp_df.select('Name','Folder_Array','Parent_Array','Content-Length','Level','FileCount','Content-Length-Mean','Content-Length-Min','IsDir','SmallFile').join(tmp_df2,(tmp_df.Folder_Array == tmp_df2.Parent_Array_agg),'left')\n",
    "\n",
    "tmp_df = inner_tmp_df.select('Name','Folder_Array','Parent_Array','Content-Length','Level','FileCount','Content-Length-Mean','Content-Length-Min','IsDir','SmallFile','IsDelta').filter(df['Name'].contains('_delta_log')==False) ## Do not count files in _delta_log\n",
    "\n",
    "tmp_df = tmp_df.withColumn('FileType',F.when((F.col('IsDir')==0),F.split(F.col('Folder_Array')[F.size(F.col('Folder_Array'))-1],'\\.')).otherwise(F.array()))\n",
    "tmp_df = tmp_df.withColumn('FileType',F.when((F.size('FileType')>0),F.col('FileType')[F.size(F.col('FileType'))-1]).otherwise(F.lit('Directory')) )\n",
    "\n",
    "\n",
    "tmp_df2 = tmp_df.groupby('Parent_Array').agg(F.max(F.col('FileType')).alias('FileType'))\n",
    "tmp_df2 = tmp_df2.withColumnRenamed('Parent_Array','Parent_Array_agg')   \n",
    "\n",
    "inner_tmp_df = tmp_df.select('Name','Folder_Array','Parent_Array','Content-Length','Level','FileCount','Content-Length-Mean','Content-Length-Min','IsDir','SmallFile','IsDelta').join(tmp_df2,(tmp_df.Folder_Array == tmp_df2.Parent_Array_agg),'left')\n",
    "\n",
    "tmp_df = inner_tmp_df.select('Name','Folder_Array','Parent_Array','Content-Length','Level','FileCount','Content-Length-Mean','Content-Length-Min','IsDir','SmallFile','IsDelta','FileType')\n",
    "tmp_df = tmp_df.withColumn('FileType',F.when(F.col('IsDelta')==1,F.lit('Delta')).otherwise(F.col('FileType')))\n",
    "\n",
    "\n",
    "\n",
    "tmp_df.write.format('delta').saveAsTable(\"adls_inventory_temp\")"
   ]
  },
  {
   "cell_type": "code",
   "execution_count": 0,
   "metadata": {
    "application/vnd.databricks.v1+cell": {
     "cellMetadata": {
      "byteLimit": 2048000,
      "rowLimit": 10000
     },
     "inputWidgets": {},
     "nuid": "b788af9c-0dec-4086-a1a3-d367c41ed2fa",
     "showTitle": true,
     "title": "Hierarchy Calculation Starting at Lowest Level "
    }
   },
   "outputs": [],
   "source": [
    "tmp_df = spark.read.table('adls_inventory_temp')\n",
    "\n",
    "df_list = []\n",
    "\n",
    "levels = tmp_df.filter(F.col('Level')>0).select('Level').distinct().orderBy(F.desc('Level')).rdd.flatMap(lambda x: x).collect()\n",
    "\n",
    "for level in levels:\n",
    "  print(level)\n",
    "  agg_df = tmp_df.filter((F.col('Level')==level) & (F.col('Content-Length-Min')>0)).groupby('Parent_Array').agg(F.sum('Content-Length').alias('Content-Length-Agg'),\n",
    "                                                                                                                F.sum('FileCount').alias('FileCount-Agg'),\n",
    "                                                                                                                F.mean('Content-Length-Mean').alias('Content-Length-Mean-Agg'),\n",
    "                                                                                                                F.min('Content-Length-Min').alias('Content-Length-Min-Agg'),\n",
    "                                                                                                                F.sum('SmallFile').alias('SmallFileCount'))                                                                                                        \n",
    "  \n",
    "  agg_df = agg_df.withColumnRenamed('Parent_Array','Parent_Array_agg')\n",
    "\n",
    "  inner_tmp_df = tmp_df.select('Name','Folder_Array','Parent_Array','Content-Length','Level','FileCount','Content-Length-Mean','Content-Length-Min','IsDir','SmallFile','FileType').join(agg_df,(tmp_df.Folder_Array == agg_df.Parent_Array_agg),'left')\n",
    "  \n",
    "  inner_tmp_df =inner_tmp_df.withColumn('Content-Length',F.when(F.col('Content-Length-Agg') >0,F.col('Content-Length-Agg')).otherwise(F.col('Content-Length')))\n",
    "  inner_tmp_df =inner_tmp_df.withColumn('Content-Length-Mean',F.when(F.col('Content-Length-Mean-Agg') >0,F.col('Content-Length-Mean-Agg')).otherwise(F.col('Content-Length-Mean')))\n",
    "  inner_tmp_df =inner_tmp_df.withColumn('Content-Length-Min',F.when(F.col('Content-Length-Min-Agg') >0,F.col('Content-Length-Min-Agg')).otherwise(F.col('Content-Length-Min')))\n",
    "  inner_tmp_df = inner_tmp_df.withColumn('FileCount',F.when(F.col('FileCount-Agg') >0,F.col('FileCount-Agg')).otherwise(F.col('FileCount')))\n",
    "  inner_tmp_df =inner_tmp_df.withColumn('SmallFile',F.when(F.col('SmallFileCount') >0,F.col('SmallFileCount')).otherwise(F.col('SmallFile')))\n",
    "  \n",
    "  tmp_df = inner_tmp_df.select('Name','Folder_Array','Parent_Array','Content-Length','Content-Length-Mean','Content-Length-Min' ,'FileCount','SmallFile', 'Level','IsDir','FileType')\n",
    " \n"
   ]
  },
  {
   "cell_type": "code",
   "execution_count": 0,
   "metadata": {
    "application/vnd.databricks.v1+cell": {
     "cellMetadata": {
      "byteLimit": 2048000,
      "rowLimit": 10000
     },
     "inputWidgets": {},
     "nuid": "d41b0f78-5850-46d0-9098-a9001fc6a1e5",
     "showTitle": true,
     "title": "Conversion for Bytes to MB"
    }
   },
   "outputs": [],
   "source": [
    "KB = float(1024)\n",
    "MB = float(KB ** 2) \n",
    "MB"
   ]
  },
  {
   "cell_type": "code",
   "execution_count": 0,
   "metadata": {
    "application/vnd.databricks.v1+cell": {
     "cellMetadata": {
      "byteLimit": 2048000,
      "rowLimit": 10000
     },
     "inputWidgets": {},
     "nuid": "1b9ca6fe-eaa7-4c5d-82eb-5a59abb60dd5",
     "showTitle": true,
     "title": "Convert Content-Length Values and Finalize for Table for Analytics and Reporting"
    }
   },
   "outputs": [],
   "source": [
    "final_df = tmp_df.filter((F.col('Content-Length')>0) & (F.col('FileCount')>0) & (F.col('IsDir')==1) )\n",
    "final_df.cache()\n",
    "final_df = final_df.select(F.col('Name'),F.col('Folder_Array').alias('FolderPath'),F.col('FileCount'),F.col('SmallFile').alias('SmallFileCount'),(F.col('SmallFile')/F.col('FileCount')).alias('PctSmallFiles'),#F.col('Content-Length'),\n",
    "                                                                                (F.col('Content-Length')/MB).alias('SizeMB'),\n",
    "                                                                              #F.col('Content-Length-Mean'),\n",
    "                                                                             (F.col('Content-Length-Mean')/MB).alias('SizeMeanMB'),\n",
    "                                                                              #F.col('Content-Length-Min'),\n",
    "                                                                              (F.col('Content-Length-Min')/MB).alias('SizeMinMB'),F.col('Level'),F.col('FileType')).orderBy('Name')\n",
    "\n",
    "#display(final_df.orderBy('Name'))\n",
    "final_df.write.format('delta').saveAsTable(\"adls_inventory_processed\")"
   ]
  },
  {
   "cell_type": "code",
   "execution_count": 0,
   "metadata": {
    "application/vnd.databricks.v1+cell": {
     "cellMetadata": {
      "byteLimit": 2048000,
      "implicitDf": true,
      "rowLimit": 10000
     },
     "inputWidgets": {},
     "nuid": "2db17a87-b91d-4297-964b-05b40d33e2f5",
     "showTitle": false,
     "title": ""
    }
   },
   "outputs": [],
   "source": [
    "%sql\n",
    "SELECT * FROM adls_inventory_processed"
   ]
  }
 ],
 "metadata": {
  "application/vnd.databricks.v1+notebook": {
   "dashboards": [],
   "language": "python",
   "notebookMetadata": {
    "mostRecentlyExecutedCommandWithImplicitDF": {
     "commandId": 213042783960077,
     "dataframes": [
      "_sqldf"
     ]
    },
    "pythonIndentUnit": 2
   },
   "notebookName": "ADLS_Inventory_File_Process",
   "notebookOrigID": 672906891800311,
   "widgets": {}
  }
 },
 "nbformat": 4,
 "nbformat_minor": 0
}
